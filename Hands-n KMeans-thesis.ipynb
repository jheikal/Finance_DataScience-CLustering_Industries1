{
 "cells": [
  {
   "cell_type": "code",
   "execution_count": null,
   "metadata": {
    "colab": {},
    "colab_type": "code",
    "id": "7XUpVgMnk-7g"
   },
   "outputs": [],
   "source": []
  },
  {
   "cell_type": "code",
   "execution_count": 1,
   "metadata": {
    "colab": {
     "base_uri": "https://localhost:8080/",
     "height": 72
    },
    "colab_type": "code",
    "executionInfo": {
     "elapsed": 1301,
     "status": "ok",
     "timestamp": 1599824528216,
     "user": {
      "displayName": "Hafizh Adi Prasetya",
      "photoUrl": "",
      "userId": "17729880730015292488"
     },
     "user_tz": -420
    },
    "id": "fKAL7c4I9cwa",
    "outputId": "d629ad28-dfe0-43d7-d64c-9a3b542af6a3"
   },
   "outputs": [],
   "source": [
    "import pandas as pd \n",
    "import numpy as np\n",
    "import matplotlib.pyplot as plt\n",
    "import seaborn as sns\n",
    "%matplotlib inline"
   ]
  },
  {
   "cell_type": "markdown",
   "metadata": {
    "colab_type": "text",
    "id": "nyDUk6fH9k2G"
   },
   "source": [
    "## Load Our Dataset"
   ]
  },
  {
   "cell_type": "code",
   "execution_count": 137,
   "metadata": {},
   "outputs": [],
   "source": [
    "df = pd.read_excel('data2.xlsx')"
   ]
  },
  {
   "cell_type": "code",
   "execution_count": 11,
   "metadata": {},
   "outputs": [
    {
     "name": "stdout",
     "output_type": "stream",
     "text": [
      "<class 'pandas.core.frame.DataFrame'>\n",
      "RangeIndex: 52 entries, 0 to 51\n",
      "Data columns (total 34 columns):\n",
      " #   Column                   Non-Null Count  Dtype  \n",
      "---  ------                   --------------  -----  \n",
      " 0   EMITEN                   52 non-null     object \n",
      " 1   PER (X)                  52 non-null     float64\n",
      " 2   PBV (X)                  52 non-null     float64\n",
      " 3   EV/EBTIDA (X)            52 non-null     float64\n",
      " 4   BVPS                     52 non-null     float64\n",
      " 5   ROA                      52 non-null     float64\n",
      " 6   ROE                      52 non-null     float64\n",
      " 7   DER (X)                  52 non-null     float64\n",
      " 8   Sales Growth             52 non-null     float64\n",
      " 9   Operating Income Growth  52 non-null     float64\n",
      " 10  Net Income Growth        52 non-null     float64\n",
      " 11  Gross Profit Margin      52 non-null     float64\n",
      " 12  Operating Profit Margin  52 non-null     float64\n",
      " 13  Net Profit Margin        52 non-null     float64\n",
      " 14  Total Sales              52 non-null     int64  \n",
      " 15  Gross Profit             52 non-null     int64  \n",
      " 16  Operating Profit         52 non-null     int64  \n",
      " 17  Income Before Tax        52 non-null     int64  \n",
      " 18  Net Income               52 non-null     int64  \n",
      " 19  Cash Equivalents         52 non-null     int64  \n",
      " 20  Current Assets           52 non-null     int64  \n",
      " 21  Fixed Assets             52 non-null     int64  \n",
      " 22  Total Assets             52 non-null     int64  \n",
      " 23  Current Liabilities      52 non-null     int64  \n",
      " 24  Long Term Debt           52 non-null     int64  \n",
      " 25  Minority Interest        41 non-null     float64\n",
      " 26  Total Liabilities        52 non-null     int64  \n",
      " 27  Total Equity             52 non-null     int64  \n",
      " 28  EPS                      52 non-null     float64\n",
      " 29  Outstanding Shares       52 non-null     int64  \n",
      " 30  Cash From Operating Act  52 non-null     int64  \n",
      " 31  Cash From Investing Act  52 non-null     int64  \n",
      " 32  Cash From Financing Act  50 non-null     float64\n",
      " 33  Category                 0 non-null      float64\n",
      "dtypes: float64(17), int64(16), object(1)\n",
      "memory usage: 13.9+ KB\n"
     ]
    }
   ],
   "source": [
    "df.info()"
   ]
  },
  {
   "cell_type": "code",
   "execution_count": 109,
   "metadata": {},
   "outputs": [
    {
     "data": {
      "text/html": [
       "<div>\n",
       "<style scoped>\n",
       "    .dataframe tbody tr th:only-of-type {\n",
       "        vertical-align: middle;\n",
       "    }\n",
       "\n",
       "    .dataframe tbody tr th {\n",
       "        vertical-align: top;\n",
       "    }\n",
       "\n",
       "    .dataframe thead th {\n",
       "        text-align: right;\n",
       "    }\n",
       "</style>\n",
       "<table border=\"1\" class=\"dataframe\">\n",
       "  <thead>\n",
       "    <tr style=\"text-align: right;\">\n",
       "      <th></th>\n",
       "      <th>PER (X)</th>\n",
       "      <th>PBV (X)</th>\n",
       "      <th>EV/EBTIDA (X)</th>\n",
       "      <th>BVPS</th>\n",
       "      <th>ROA</th>\n",
       "      <th>ROE</th>\n",
       "      <th>DER (X)</th>\n",
       "      <th>Sales Growth</th>\n",
       "      <th>Operating Income Growth</th>\n",
       "      <th>Net Income Growth</th>\n",
       "      <th>...</th>\n",
       "      <th>Long Term Debt</th>\n",
       "      <th>Minority Interest</th>\n",
       "      <th>Total Liabilities</th>\n",
       "      <th>Total Equity</th>\n",
       "      <th>EPS</th>\n",
       "      <th>Outstanding Shares</th>\n",
       "      <th>Cash From Operating Act</th>\n",
       "      <th>Cash From Investing Act</th>\n",
       "      <th>Cash From Financing Act</th>\n",
       "      <th>Category</th>\n",
       "    </tr>\n",
       "  </thead>\n",
       "  <tbody>\n",
       "    <tr>\n",
       "      <th>count</th>\n",
       "      <td>52.000000</td>\n",
       "      <td>52.000000</td>\n",
       "      <td>52.000000</td>\n",
       "      <td>52.000000</td>\n",
       "      <td>52.000000</td>\n",
       "      <td>52.000000</td>\n",
       "      <td>52.000000</td>\n",
       "      <td>52.000000</td>\n",
       "      <td>52.000000</td>\n",
       "      <td>52.000000</td>\n",
       "      <td>...</td>\n",
       "      <td>5.200000e+01</td>\n",
       "      <td>4.100000e+01</td>\n",
       "      <td>5.200000e+01</td>\n",
       "      <td>5.200000e+01</td>\n",
       "      <td>52.000000</td>\n",
       "      <td>52.000000</td>\n",
       "      <td>5.200000e+01</td>\n",
       "      <td>5.200000e+01</td>\n",
       "      <td>5.000000e+01</td>\n",
       "      <td>0.0</td>\n",
       "    </tr>\n",
       "    <tr>\n",
       "      <th>mean</th>\n",
       "      <td>23.129615</td>\n",
       "      <td>3.254038</td>\n",
       "      <td>12.646731</td>\n",
       "      <td>3057.549423</td>\n",
       "      <td>2.207885</td>\n",
       "      <td>0.315192</td>\n",
       "      <td>1.652500</td>\n",
       "      <td>-13.754038</td>\n",
       "      <td>-44.238269</td>\n",
       "      <td>-390.464808</td>\n",
       "      <td>...</td>\n",
       "      <td>1.305760e+07</td>\n",
       "      <td>4.339856e+06</td>\n",
       "      <td>4.771799e+07</td>\n",
       "      <td>2.475326e+07</td>\n",
       "      <td>234.222115</td>\n",
       "      <td>17486.403846</td>\n",
       "      <td>6.240462e+06</td>\n",
       "      <td>-4.685848e+06</td>\n",
       "      <td>-1.922638e+06</td>\n",
       "      <td>NaN</td>\n",
       "    </tr>\n",
       "    <tr>\n",
       "      <th>std</th>\n",
       "      <td>45.465127</td>\n",
       "      <td>7.999508</td>\n",
       "      <td>29.381123</td>\n",
       "      <td>5364.235061</td>\n",
       "      <td>15.668435</td>\n",
       "      <td>37.173107</td>\n",
       "      <td>2.154349</td>\n",
       "      <td>28.347578</td>\n",
       "      <td>237.731273</td>\n",
       "      <td>2168.226351</td>\n",
       "      <td>...</td>\n",
       "      <td>2.008624e+07</td>\n",
       "      <td>9.283808e+06</td>\n",
       "      <td>1.772887e+08</td>\n",
       "      <td>4.248954e+07</td>\n",
       "      <td>634.920223</td>\n",
       "      <td>27022.323440</td>\n",
       "      <td>1.377851e+07</td>\n",
       "      <td>1.765328e+07</td>\n",
       "      <td>8.685794e+06</td>\n",
       "      <td>NaN</td>\n",
       "    </tr>\n",
       "    <tr>\n",
       "      <th>min</th>\n",
       "      <td>-60.350000</td>\n",
       "      <td>0.120000</td>\n",
       "      <td>-68.710000</td>\n",
       "      <td>6.500000</td>\n",
       "      <td>-88.450000</td>\n",
       "      <td>-140.130000</td>\n",
       "      <td>0.020000</td>\n",
       "      <td>-93.950000</td>\n",
       "      <td>-1577.920000</td>\n",
       "      <td>-15358.190000</td>\n",
       "      <td>...</td>\n",
       "      <td>3.200000e+02</td>\n",
       "      <td>-1.486600e+04</td>\n",
       "      <td>1.818000e+03</td>\n",
       "      <td>1.378100e+04</td>\n",
       "      <td>-543.580000</td>\n",
       "      <td>206.000000</td>\n",
       "      <td>-8.355870e+05</td>\n",
       "      <td>-1.160078e+08</td>\n",
       "      <td>-2.795500e+07</td>\n",
       "      <td>NaN</td>\n",
       "    </tr>\n",
       "    <tr>\n",
       "      <th>25%</th>\n",
       "      <td>4.047500</td>\n",
       "      <td>0.797500</td>\n",
       "      <td>6.345000</td>\n",
       "      <td>364.600000</td>\n",
       "      <td>0.505000</td>\n",
       "      <td>1.127500</td>\n",
       "      <td>0.415000</td>\n",
       "      <td>-27.710000</td>\n",
       "      <td>-45.205000</td>\n",
       "      <td>-78.215000</td>\n",
       "      <td>...</td>\n",
       "      <td>3.627830e+05</td>\n",
       "      <td>5.148000e+03</td>\n",
       "      <td>1.782152e+06</td>\n",
       "      <td>2.399391e+06</td>\n",
       "      <td>3.947500</td>\n",
       "      <td>2266.250000</td>\n",
       "      <td>1.681858e+05</td>\n",
       "      <td>-1.441560e+06</td>\n",
       "      <td>-3.542257e+06</td>\n",
       "      <td>NaN</td>\n",
       "    </tr>\n",
       "    <tr>\n",
       "      <th>50%</th>\n",
       "      <td>13.540000</td>\n",
       "      <td>1.300000</td>\n",
       "      <td>9.330000</td>\n",
       "      <td>1220.805000</td>\n",
       "      <td>4.080000</td>\n",
       "      <td>5.260000</td>\n",
       "      <td>1.035000</td>\n",
       "      <td>-11.520000</td>\n",
       "      <td>-20.050000</td>\n",
       "      <td>-25.675000</td>\n",
       "      <td>...</td>\n",
       "      <td>2.833612e+06</td>\n",
       "      <td>2.586170e+05</td>\n",
       "      <td>6.539200e+06</td>\n",
       "      <td>7.245738e+06</td>\n",
       "      <td>54.050000</td>\n",
       "      <td>6119.000000</td>\n",
       "      <td>1.341656e+06</td>\n",
       "      <td>-3.576365e+05</td>\n",
       "      <td>-2.575530e+05</td>\n",
       "      <td>NaN</td>\n",
       "    </tr>\n",
       "    <tr>\n",
       "      <th>75%</th>\n",
       "      <td>28.502500</td>\n",
       "      <td>2.627500</td>\n",
       "      <td>18.427500</td>\n",
       "      <td>3280.862500</td>\n",
       "      <td>6.955000</td>\n",
       "      <td>11.382500</td>\n",
       "      <td>1.727500</td>\n",
       "      <td>1.512500</td>\n",
       "      <td>-1.427500</td>\n",
       "      <td>12.785000</td>\n",
       "      <td>...</td>\n",
       "      <td>1.474715e+07</td>\n",
       "      <td>2.860757e+06</td>\n",
       "      <td>3.486825e+07</td>\n",
       "      <td>2.600023e+07</td>\n",
       "      <td>160.372500</td>\n",
       "      <td>20631.750000</td>\n",
       "      <td>6.200172e+06</td>\n",
       "      <td>-1.208150e+04</td>\n",
       "      <td>8.531500e+03</td>\n",
       "      <td>NaN</td>\n",
       "    </tr>\n",
       "    <tr>\n",
       "      <th>max</th>\n",
       "      <td>200.780000</td>\n",
       "      <td>56.790000</td>\n",
       "      <td>147.990000</td>\n",
       "      <td>30415.690000</td>\n",
       "      <td>44.840000</td>\n",
       "      <td>145.090000</td>\n",
       "      <td>10.670000</td>\n",
       "      <td>100.140000</td>\n",
       "      <td>489.530000</td>\n",
       "      <td>492.900000</td>\n",
       "      <td>...</td>\n",
       "      <td>7.008569e+07</td>\n",
       "      <td>3.979200e+07</td>\n",
       "      <td>1.278346e+09</td>\n",
       "      <td>1.999114e+08</td>\n",
       "      <td>3974.730000</td>\n",
       "      <td>123346.000000</td>\n",
       "      <td>6.668919e+07</td>\n",
       "      <td>1.313300e+07</td>\n",
       "      <td>2.728551e+07</td>\n",
       "      <td>NaN</td>\n",
       "    </tr>\n",
       "  </tbody>\n",
       "</table>\n",
       "<p>8 rows × 33 columns</p>\n",
       "</div>"
      ],
      "text/plain": [
       "          PER (X)    PBV (X)  EV/EBTIDA (X)          BVPS        ROA  \\\n",
       "count   52.000000  52.000000      52.000000     52.000000  52.000000   \n",
       "mean    23.129615   3.254038      12.646731   3057.549423   2.207885   \n",
       "std     45.465127   7.999508      29.381123   5364.235061  15.668435   \n",
       "min    -60.350000   0.120000     -68.710000      6.500000 -88.450000   \n",
       "25%      4.047500   0.797500       6.345000    364.600000   0.505000   \n",
       "50%     13.540000   1.300000       9.330000   1220.805000   4.080000   \n",
       "75%     28.502500   2.627500      18.427500   3280.862500   6.955000   \n",
       "max    200.780000  56.790000     147.990000  30415.690000  44.840000   \n",
       "\n",
       "              ROE    DER (X)  Sales Growth  Operating Income Growth  \\\n",
       "count   52.000000  52.000000     52.000000                52.000000   \n",
       "mean     0.315192   1.652500    -13.754038               -44.238269   \n",
       "std     37.173107   2.154349     28.347578               237.731273   \n",
       "min   -140.130000   0.020000    -93.950000             -1577.920000   \n",
       "25%      1.127500   0.415000    -27.710000               -45.205000   \n",
       "50%      5.260000   1.035000    -11.520000               -20.050000   \n",
       "75%     11.382500   1.727500      1.512500                -1.427500   \n",
       "max    145.090000  10.670000    100.140000               489.530000   \n",
       "\n",
       "       Net Income Growth  ...  Long Term Debt  Minority Interest  \\\n",
       "count          52.000000  ...    5.200000e+01       4.100000e+01   \n",
       "mean         -390.464808  ...    1.305760e+07       4.339856e+06   \n",
       "std          2168.226351  ...    2.008624e+07       9.283808e+06   \n",
       "min        -15358.190000  ...    3.200000e+02      -1.486600e+04   \n",
       "25%           -78.215000  ...    3.627830e+05       5.148000e+03   \n",
       "50%           -25.675000  ...    2.833612e+06       2.586170e+05   \n",
       "75%            12.785000  ...    1.474715e+07       2.860757e+06   \n",
       "max           492.900000  ...    7.008569e+07       3.979200e+07   \n",
       "\n",
       "       Total Liabilities  Total Equity          EPS  Outstanding Shares  \\\n",
       "count       5.200000e+01  5.200000e+01    52.000000           52.000000   \n",
       "mean        4.771799e+07  2.475326e+07   234.222115        17486.403846   \n",
       "std         1.772887e+08  4.248954e+07   634.920223        27022.323440   \n",
       "min         1.818000e+03  1.378100e+04  -543.580000          206.000000   \n",
       "25%         1.782152e+06  2.399391e+06     3.947500         2266.250000   \n",
       "50%         6.539200e+06  7.245738e+06    54.050000         6119.000000   \n",
       "75%         3.486825e+07  2.600023e+07   160.372500        20631.750000   \n",
       "max         1.278346e+09  1.999114e+08  3974.730000       123346.000000   \n",
       "\n",
       "       Cash From Operating Act  Cash From Investing Act  \\\n",
       "count             5.200000e+01             5.200000e+01   \n",
       "mean              6.240462e+06            -4.685848e+06   \n",
       "std               1.377851e+07             1.765328e+07   \n",
       "min              -8.355870e+05            -1.160078e+08   \n",
       "25%               1.681858e+05            -1.441560e+06   \n",
       "50%               1.341656e+06            -3.576365e+05   \n",
       "75%               6.200172e+06            -1.208150e+04   \n",
       "max               6.668919e+07             1.313300e+07   \n",
       "\n",
       "       Cash From Financing Act  Category  \n",
       "count             5.000000e+01       0.0  \n",
       "mean             -1.922638e+06       NaN  \n",
       "std               8.685794e+06       NaN  \n",
       "min              -2.795500e+07       NaN  \n",
       "25%              -3.542257e+06       NaN  \n",
       "50%              -2.575530e+05       NaN  \n",
       "75%               8.531500e+03       NaN  \n",
       "max               2.728551e+07       NaN  \n",
       "\n",
       "[8 rows x 33 columns]"
      ]
     },
     "execution_count": 109,
     "metadata": {},
     "output_type": "execute_result"
    }
   ],
   "source": [
    "df.describe()"
   ]
  },
  {
   "cell_type": "code",
   "execution_count": 139,
   "metadata": {},
   "outputs": [
    {
     "data": {
      "text/html": [
       "<div>\n",
       "<style scoped>\n",
       "    .dataframe tbody tr th:only-of-type {\n",
       "        vertical-align: middle;\n",
       "    }\n",
       "\n",
       "    .dataframe tbody tr th {\n",
       "        vertical-align: top;\n",
       "    }\n",
       "\n",
       "    .dataframe thead th {\n",
       "        text-align: right;\n",
       "    }\n",
       "</style>\n",
       "<table border=\"1\" class=\"dataframe\">\n",
       "  <thead>\n",
       "    <tr style=\"text-align: right;\">\n",
       "      <th></th>\n",
       "      <th>DER (X)</th>\n",
       "      <th>Net Income</th>\n",
       "      <th>Category</th>\n",
       "    </tr>\n",
       "  </thead>\n",
       "  <tbody>\n",
       "    <tr>\n",
       "      <th>count</th>\n",
       "      <td>52.000000</td>\n",
       "      <td>5.200000e+01</td>\n",
       "      <td>0.0</td>\n",
       "    </tr>\n",
       "    <tr>\n",
       "      <th>mean</th>\n",
       "      <td>1.652500</td>\n",
       "      <td>1.864803e+06</td>\n",
       "      <td>NaN</td>\n",
       "    </tr>\n",
       "    <tr>\n",
       "      <th>std</th>\n",
       "      <td>2.154349</td>\n",
       "      <td>4.787885e+06</td>\n",
       "      <td>NaN</td>\n",
       "    </tr>\n",
       "    <tr>\n",
       "      <th>min</th>\n",
       "      <td>0.020000</td>\n",
       "      <td>-7.378554e+06</td>\n",
       "      <td>NaN</td>\n",
       "    </tr>\n",
       "    <tr>\n",
       "      <th>25%</th>\n",
       "      <td>0.415000</td>\n",
       "      <td>2.760700e+04</td>\n",
       "      <td>NaN</td>\n",
       "    </tr>\n",
       "    <tr>\n",
       "      <th>50%</th>\n",
       "      <td>1.035000</td>\n",
       "      <td>3.368380e+05</td>\n",
       "      <td>NaN</td>\n",
       "    </tr>\n",
       "    <tr>\n",
       "      <th>75%</th>\n",
       "      <td>1.727500</td>\n",
       "      <td>1.287319e+06</td>\n",
       "      <td>NaN</td>\n",
       "    </tr>\n",
       "    <tr>\n",
       "      <th>max</th>\n",
       "      <td>10.670000</td>\n",
       "      <td>2.080400e+07</td>\n",
       "      <td>NaN</td>\n",
       "    </tr>\n",
       "  </tbody>\n",
       "</table>\n",
       "</div>"
      ],
      "text/plain": [
       "         DER (X)    Net Income  Category\n",
       "count  52.000000  5.200000e+01       0.0\n",
       "mean    1.652500  1.864803e+06       NaN\n",
       "std     2.154349  4.787885e+06       NaN\n",
       "min     0.020000 -7.378554e+06       NaN\n",
       "25%     0.415000  2.760700e+04       NaN\n",
       "50%     1.035000  3.368380e+05       NaN\n",
       "75%     1.727500  1.287319e+06       NaN\n",
       "max    10.670000  2.080400e+07       NaN"
      ]
     },
     "execution_count": 139,
     "metadata": {},
     "output_type": "execute_result"
    }
   ],
   "source": [
    "df = df[['DER (X)','Net Income','Category']]\n",
    "df.describe()"
   ]
  },
  {
   "cell_type": "markdown",
   "metadata": {
    "colab_type": "text",
    "id": "scANkmFy9spl"
   },
   "source": [
    "## Standarisasi Fitur"
   ]
  },
  {
   "cell_type": "code",
   "execution_count": 146,
   "metadata": {
    "colab": {
     "base_uri": "https://localhost:8080/",
     "height": 284
    },
    "colab_type": "code",
    "executionInfo": {
     "elapsed": 3082,
     "status": "ok",
     "timestamp": 1599824530298,
     "user": {
      "displayName": "Hafizh Adi Prasetya",
      "photoUrl": "",
      "userId": "17729880730015292488"
     },
     "user_tz": -420
    },
    "id": "35tYFHh19ob2",
    "outputId": "b6e34241-54ba-46c5-945c-8ad1383564a7"
   },
   "outputs": [
    {
     "data": {
      "text/html": [
       "<div>\n",
       "<style scoped>\n",
       "    .dataframe tbody tr th:only-of-type {\n",
       "        vertical-align: middle;\n",
       "    }\n",
       "\n",
       "    .dataframe tbody tr th {\n",
       "        vertical-align: top;\n",
       "    }\n",
       "\n",
       "    .dataframe thead th {\n",
       "        text-align: right;\n",
       "    }\n",
       "</style>\n",
       "<table border=\"1\" class=\"dataframe\">\n",
       "  <thead>\n",
       "    <tr style=\"text-align: right;\">\n",
       "      <th></th>\n",
       "      <th>DER (X)</th>\n",
       "      <th>Net Income</th>\n",
       "    </tr>\n",
       "  </thead>\n",
       "  <tbody>\n",
       "    <tr>\n",
       "      <th>count</th>\n",
       "      <td>5.200000e+01</td>\n",
       "      <td>5.200000e+01</td>\n",
       "    </tr>\n",
       "    <tr>\n",
       "      <th>mean</th>\n",
       "      <td>7.472655e-17</td>\n",
       "      <td>5.124106e-17</td>\n",
       "    </tr>\n",
       "    <tr>\n",
       "      <th>std</th>\n",
       "      <td>1.009756e+00</td>\n",
       "      <td>1.009756e+00</td>\n",
       "    </tr>\n",
       "    <tr>\n",
       "      <th>min</th>\n",
       "      <td>-7.651626e-01</td>\n",
       "      <td>-1.949407e+00</td>\n",
       "    </tr>\n",
       "    <tr>\n",
       "      <th>25%</th>\n",
       "      <td>-5.800237e-01</td>\n",
       "      <td>-3.874613e-01</td>\n",
       "    </tr>\n",
       "    <tr>\n",
       "      <th>50%</th>\n",
       "      <td>-2.894260e-01</td>\n",
       "      <td>-3.222450e-01</td>\n",
       "    </tr>\n",
       "    <tr>\n",
       "      <th>75%</th>\n",
       "      <td>3.515295e-02</td>\n",
       "      <td>-1.217904e-01</td>\n",
       "    </tr>\n",
       "    <tr>\n",
       "      <th>max</th>\n",
       "      <td>4.226557e+00</td>\n",
       "      <td>3.994242e+00</td>\n",
       "    </tr>\n",
       "  </tbody>\n",
       "</table>\n",
       "</div>"
      ],
      "text/plain": [
       "            DER (X)    Net Income\n",
       "count  5.200000e+01  5.200000e+01\n",
       "mean   7.472655e-17  5.124106e-17\n",
       "std    1.009756e+00  1.009756e+00\n",
       "min   -7.651626e-01 -1.949407e+00\n",
       "25%   -5.800237e-01 -3.874613e-01\n",
       "50%   -2.894260e-01 -3.222450e-01\n",
       "75%    3.515295e-02 -1.217904e-01\n",
       "max    4.226557e+00  3.994242e+00"
      ]
     },
     "execution_count": 146,
     "metadata": {},
     "output_type": "execute_result"
    }
   ],
   "source": [
    "feats = ['DER (X)','Net Income']\n",
    "X = df[feats].values\n",
    "y = df['Category'].values\n",
    "\n",
    "from sklearn.preprocessing import StandardScaler\n",
    "X_std = StandardScaler().fit_transform(X)\n",
    "new_df = pd.DataFrame(data = X_std, columns = feats)\n",
    "new_df.describe()"
   ]
  },
  {
   "cell_type": "markdown",
   "metadata": {
    "colab_type": "text",
    "id": "BI2G7Qf5DEEK"
   },
   "source": [
    "### Lakukan K-means"
   ]
  },
  {
   "cell_type": "code",
   "execution_count": 147,
   "metadata": {
    "colab": {
     "base_uri": "https://localhost:8080/",
     "height": 366
    },
    "colab_type": "code",
    "executionInfo": {
     "elapsed": 4125,
     "status": "ok",
     "timestamp": 1599824532104,
     "user": {
      "displayName": "Hafizh Adi Prasetya",
      "photoUrl": "",
      "userId": "17729880730015292488"
     },
     "user_tz": -420
    },
    "id": "WkjyKgfLPI1W",
    "outputId": "0fe26e06-2ec9-42b8-cfbc-b363b61ffe2c"
   },
   "outputs": [
    {
     "data": {
      "text/plain": [
       "[<matplotlib.lines.Line2D at 0x250e414bc10>]"
      ]
     },
     "execution_count": 147,
     "metadata": {},
     "output_type": "execute_result"
    },
    {
     "data": {
      "image/png": "[encoded data removed]",
      "text/plain": [
       "<Figure size 864x432 with 1 Axes>"
      ]
     },
     "metadata": {
      "needs_background": "light"
     },
     "output_type": "display_data"
    }
   ],
   "source": [
    "from sklearn.cluster import KMeans\n",
    "inertia = []\n",
    "\n",
    "for i in range(1, 11):\n",
    "  kmeans = KMeans(n_clusters=i, init='k-means++', max_iter=300, n_init=10, random_state=0)\n",
    "  kmeans.fit(new_df.values)\n",
    "  inertia.append(kmeans.inertia_)\n",
    "\n",
    "plt.figure(figsize=(12, 6))\n",
    "plt.plot(inertia) #Elbow Method"
   ]
  },
  {
   "cell_type": "markdown",
   "metadata": {},
   "source": [
    "Ternyata clustering paling optimal di n cluster (n_cluster = n)"
   ]
  },
  {
   "cell_type": "code",
   "execution_count": 148,
   "metadata": {
    "colab": {
     "base_uri": "https://localhost:8080/",
     "height": 70
    },
    "colab_type": "code",
    "executionInfo": {
     "elapsed": 3586,
     "status": "ok",
     "timestamp": 1599824532105,
     "user": {
      "displayName": "Hafizh Adi Prasetya",
      "photoUrl": "",
      "userId": "17729880730015292488"
     },
     "user_tz": -420
    },
    "id": "IneLQ7MSk9HW",
    "outputId": "07273114-c8ff-4029-d40f-c54b99dc4136"
   },
   "outputs": [
    {
     "data": {
      "text/plain": [
       "KMeans(n_clusters=5, random_state=0)"
      ]
     },
     "execution_count": 148,
     "metadata": {},
     "output_type": "execute_result"
    }
   ],
   "source": [
    "from sklearn.cluster import KMeans\n",
    "kmeans = KMeans(n_clusters=5, init='k-means++', max_iter=300, n_init=10, random_state=0)\n",
    "kmeans.fit(new_df.values)"
   ]
  },
  {
   "cell_type": "code",
   "execution_count": 149,
   "metadata": {
    "colab": {},
    "colab_type": "code",
    "executionInfo": {
     "elapsed": 3031,
     "status": "ok",
     "timestamp": 1599824532106,
     "user": {
      "displayName": "Hafizh Adi Prasetya",
      "photoUrl": "",
      "userId": "17729880730015292488"
     },
     "user_tz": -420
    },
    "id": "6QQyDkI0jqlo"
   },
   "outputs": [],
   "source": [
    "new_df['target'] = y\n",
    "new_df['fit'] = kmeans.labels_"
   ]
  },
  {
   "cell_type": "code",
   "execution_count": 150,
   "metadata": {
    "colab": {
     "base_uri": "https://localhost:8080/",
     "height": 297
    },
    "colab_type": "code",
    "executionInfo": {
     "elapsed": 3609,
     "status": "ok",
     "timestamp": 1599824533259,
     "user": {
      "displayName": "Hafizh Adi Prasetya",
      "photoUrl": "",
      "userId": "17729880730015292488"
     },
     "user_tz": -420
    },
    "id": "vpVVRUNYPoP8",
    "outputId": "fe8bc4de-85cc-436a-846b-280340fbca1c"
   },
   "outputs": [
    {
     "data": {
      "image/png": "[encoded data removed]",
      "text/plain": [
       "<Figure size 432x288 with 1 Axes>"
      ]
     },
     "metadata": {
      "needs_background": "light"
     },
     "output_type": "display_data"
    }
   ],
   "source": [
    "sns.scatterplot(x='DER (X)', y='Net Income', hue=new_df.target.to_list(), data=new_df);\n",
    "#sns.scatterplot(data=new_df, x='berat', y='tinggi', hue='target')"
   ]
  },
  {
   "cell_type": "code",
   "execution_count": 151,
   "metadata": {
    "colab": {
     "base_uri": "https://localhost:8080/",
     "height": 297
    },
    "colab_type": "code",
    "executionInfo": {
     "elapsed": 4056,
     "status": "ok",
     "timestamp": 1599824534325,
     "user": {
      "displayName": "Hafizh Adi Prasetya",
      "photoUrl": "",
      "userId": "17729880730015292488"
     },
     "user_tz": -420
    },
    "id": "0pCcy3ShPrSs",
    "outputId": "e637670c-3391-44cc-f743-3deb1b2f0ac7"
   },
   "outputs": [
    {
     "data": {
      "image/png": "[encoded data removed]",
      "text/plain": [
       "<Figure size 432x288 with 1 Axes>"
      ]
     },
     "metadata": {
      "needs_background": "light"
     },
     "output_type": "display_data"
    }
   ],
   "source": [
    "sns.scatterplot(x='DER (X)', y='Net Income', hue=new_df.fit.to_list(), data=new_df);\n",
    "#sns.scatterplot(data=new_df, x='berat', y='tinggi', hue='fit')"
   ]
  },
  {
   "cell_type": "markdown",
   "metadata": {
    "colab": {},
    "colab_type": "code",
    "id": "zwEEjwjsPs7s"
   },
   "source": [
    "Clustering ini sangat sering dipakai untuk membuat segmentasi user/buyer khususnya di e-commerce"
   ]
  },
  {
   "cell_type": "markdown",
   "metadata": {},
   "source": [
    "External Evaluation: Purity.<br>\n",
    "Purity makin mendekati 1 maka semakin baik"
   ]
  },
  {
   "cell_type": "code",
   "execution_count": null,
   "metadata": {},
   "outputs": [],
   "source": [
    "inverse_transform"
   ]
  }
 ],
 "metadata": {
  "colab": {
   "authorship_tag": "ABX9TyOv5A/weCvgawbz245DEzmE",
   "collapsed_sections": [],
   "name": "Hands-n KMeans.ipynb",
   "provenance": []
  },
  "kernelspec": {
   "display_name": "Python 3",
   "language": "python",
   "name": "python3"
  },
  "language_info": {
   "codemirror_mode": {
    "name": "ipython",
    "version": 3
   },
   "file_extension": ".py",
   "mimetype": "text/x-python",
   "name": "python",
   "nbconvert_exporter": "python",
   "pygments_lexer": "ipython3",
   "version": "3.8.5"
  }
 },
 "nbformat": 4,
 "nbformat_minor": 4
}
